{
 "cells": [
  {
   "cell_type": "code",
   "execution_count": 2,
   "id": "5911b7c2-d2fb-4254-a0da-05e014bb487b",
   "metadata": {},
   "outputs": [
    {
     "name": "stdout",
     "output_type": "stream",
     "text": [
      "['four', 'three', 'one', 'two']\n"
     ]
    }
   ],
   "source": [
    "import random\n",
    "list=[\"one\",\"two\",\"three\",\"four\"]\n",
    "random.shuffle(list)\n",
    "print(list)"
   ]
  }
 ],
 "metadata": {
  "kernelspec": {
   "display_name": "Python 3 (ipykernel)",
   "language": "python",
   "name": "python3"
  },
  "language_info": {
   "codemirror_mode": {
    "name": "ipython",
    "version": 3
   },
   "file_extension": ".py",
   "mimetype": "text/x-python",
   "name": "python",
   "nbconvert_exporter": "python",
   "pygments_lexer": "ipython3",
   "version": "3.12.5"
  }
 },
 "nbformat": 4,
 "nbformat_minor": 5
}
