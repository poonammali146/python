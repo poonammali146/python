{
 "cells": [
  {
   "cell_type": "code",
   "execution_count": null,
   "id": "92bdd2ef-15d4-4ab0-945e-b8e95b459d4b",
   "metadata": {},
   "outputs": [],
   "source": [
    "student_count=int(input(\"total no of student:\"))\n",
    "count=0\n",
    "passed=0\n",
    "if student_count>0:\n",
    "    for i in range(1,student_count+1):\n",
    "        marks=int(input(\"enter student\"+str(i)+\"marks:\"))\n",
    "        if marks>=40:\n",
    "              passed+=1\n",
    "    per=(passed*100)/student_count\n",
    "    print(per,\"% students passed...\")\n",
    "else:\n",
    "    print(\"please enter correct student numbers.\")"
   ]
  },
  {
   "cell_type": "code",
   "execution_count": null,
   "id": "4f9053ec-b537-4367-8f34-b8807fdeac0d",
   "metadata": {},
   "outputs": [],
   "source": []
  },
  {
   "cell_type": "code",
   "execution_count": null,
   "id": "01923be1-df63-48d1-b25a-ad35ef1eb63d",
   "metadata": {},
   "outputs": [],
   "source": []
  }
 ],
 "metadata": {
  "kernelspec": {
   "display_name": "Python 3 (ipykernel)",
   "language": "python",
   "name": "python3"
  },
  "language_info": {
   "codemirror_mode": {
    "name": "ipython",
    "version": 3
   },
   "file_extension": ".py",
   "mimetype": "text/x-python",
   "name": "python",
   "nbconvert_exporter": "python",
   "pygments_lexer": "ipython3",
   "version": "3.12.5"
  }
 },
 "nbformat": 4,
 "nbformat_minor": 5
}
