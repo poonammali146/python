{
 "cells": [
  {
   "cell_type": "code",
   "execution_count": 12,
   "id": "4af4cf6f-e265-43f3-b483-992bb758cf75",
   "metadata": {},
   "outputs": [
    {
     "name": "stdin",
     "output_type": "stream",
     "text": [
      "enter number: 7\n"
     ]
    },
    {
     "name": "stdout",
     "output_type": "stream",
     "text": [
      "7,22,11,34,17,52,26,13,40,20,10,5,16,8,4,2,1\n"
     ]
    }
   ],
   "source": [
    "n=int(input(\"enter number:\"))\n",
    "while n!=1:\n",
    "    if n%2==0:\n",
    "        p=n\n",
    "        n=n/2\n",
    "    else:\n",
    "        p=n\n",
    "        n=n*3+1\n",
    "    print(int(p),end=\",\")\n",
    "print(int(p/2))\n",
    "             "
   ]
  }
 ],
 "metadata": {
  "kernelspec": {
   "display_name": "Python 3 (ipykernel)",
   "language": "python",
   "name": "python3"
  },
  "language_info": {
   "codemirror_mode": {
    "name": "ipython",
    "version": 3
   },
   "file_extension": ".py",
   "mimetype": "text/x-python",
   "name": "python",
   "nbconvert_exporter": "python",
   "pygments_lexer": "ipython3",
   "version": "3.12.5"
  }
 },
 "nbformat": 4,
 "nbformat_minor": 5
}
