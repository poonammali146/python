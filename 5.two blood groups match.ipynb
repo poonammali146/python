{
 "cells": [
  {
   "cell_type": "code",
   "execution_count": 1,
   "id": "7de42d35-08a9-470e-a41b-5a14b42a3e88",
   "metadata": {},
   "outputs": [
    {
     "name": "stdin",
     "output_type": "stream",
     "text": [
      "enter blood group first a\n",
      "enter blood group second b\n"
     ]
    },
    {
     "name": "stdout",
     "output_type": "stream",
     "text": [
      "blood group is not match\n"
     ]
    }
   ],
   "source": [
    "b1=input(\"enter blood group first\")\n",
    "b2=input(\"enter blood group second\")\n",
    "if(b1 in b2):\n",
    "    print(\"blood group is match\")\n",
    "else:\n",
    "    print(\"blood group is not match\")\n"
   ]
  },
  {
   "cell_type": "code",
   "execution_count": null,
   "id": "5341c2f2-dbae-4a56-9d7a-e83c70ab45a2",
   "metadata": {},
   "outputs": [],
   "source": []
  }
 ],
 "metadata": {
  "kernelspec": {
   "display_name": "Python 3 (ipykernel)",
   "language": "python",
   "name": "python3"
  },
  "language_info": {
   "codemirror_mode": {
    "name": "ipython",
    "version": 3
   },
   "file_extension": ".py",
   "mimetype": "text/x-python",
   "name": "python",
   "nbconvert_exporter": "python",
   "pygments_lexer": "ipython3",
   "version": "3.12.5"
  }
 },
 "nbformat": 4,
 "nbformat_minor": 5
}
