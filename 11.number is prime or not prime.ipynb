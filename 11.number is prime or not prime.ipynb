{
 "cells": [
  {
   "cell_type": "code",
   "execution_count": 9,
   "id": "fe05f6f2-3494-44af-99f9-82471eebc362",
   "metadata": {},
   "outputs": [
    {
     "name": "stdin",
     "output_type": "stream",
     "text": [
      "enter number: 5\n"
     ]
    },
    {
     "name": "stdout",
     "output_type": "stream",
     "text": [
      "5 number is prime\n"
     ]
    }
   ],
   "source": [
    "number1=input(\"enter number:\")\n",
    "number=int(number1)\n",
    "if number>1:\n",
    "    for i in range(2,int(number/2) + 1):\n",
    "        if(number%i)==0:\n",
    "            print(number,\"number is not prime\")\n",
    "        else:\n",
    "            print(number,\"number is prime\")\n",
    "else:\n",
    "    print(number,\"is not a prime\")"
   ]
  },
  {
   "cell_type": "code",
   "execution_count": null,
   "id": "8b8cb75f-d20c-4b06-99fc-7df71bfef9d1",
   "metadata": {},
   "outputs": [],
   "source": []
  }
 ],
 "metadata": {
  "kernelspec": {
   "display_name": "Python 3 (ipykernel)",
   "language": "python",
   "name": "python3"
  },
  "language_info": {
   "codemirror_mode": {
    "name": "ipython",
    "version": 3
   },
   "file_extension": ".py",
   "mimetype": "text/x-python",
   "name": "python",
   "nbconvert_exporter": "python",
   "pygments_lexer": "ipython3",
   "version": "3.12.5"
  }
 },
 "nbformat": 4,
 "nbformat_minor": 5
}
