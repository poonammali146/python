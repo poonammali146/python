{
 "cells": [
  {
   "cell_type": "code",
   "execution_count": 2,
   "id": "31fa2357-a2ae-497d-a412-479759bca607",
   "metadata": {},
   "outputs": [
    {
     "name": "stdout",
     "output_type": "stream",
     "text": [
      "department code: CS\n",
      "course year: 24\n",
      "student roll no: 40\n"
     ]
    }
   ],
   "source": [
    "rno=\"CS2440\"\n",
    "print(\"department code:\",rno[0:2])\n",
    "print(\"course year:\",rno[2:4])\n",
    "print(\"student roll no:\",rno[4:])\n",
    "\n"
   ]
  },
  {
   "cell_type": "code",
   "execution_count": null,
   "id": "97eaa449-94e3-4582-ab2d-397f0f0e5911",
   "metadata": {},
   "outputs": [],
   "source": []
  },
  {
   "cell_type": "code",
   "execution_count": null,
   "id": "0e4e8423-2217-413c-8b16-fd5383a04105",
   "metadata": {},
   "outputs": [],
   "source": []
  }
 ],
 "metadata": {
  "kernelspec": {
   "display_name": "Python 3 (ipykernel)",
   "language": "python",
   "name": "python3"
  },
  "language_info": {
   "codemirror_mode": {
    "name": "ipython",
    "version": 3
   },
   "file_extension": ".py",
   "mimetype": "text/x-python",
   "name": "python",
   "nbconvert_exporter": "python",
   "pygments_lexer": "ipython3",
   "version": "3.12.5"
  }
 },
 "nbformat": 4,
 "nbformat_minor": 5
}
