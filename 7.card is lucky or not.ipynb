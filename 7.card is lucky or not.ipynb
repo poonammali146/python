{
 "cells": [
  {
   "cell_type": "code",
   "execution_count": 1,
   "id": "058abdf5-83c8-421d-b098-e55d3ac67abf",
   "metadata": {},
   "outputs": [
    {
     "name": "stdin",
     "output_type": "stream",
     "text": [
      "enter card: (EX.spade of 2) queen of diamond\n"
     ]
    },
    {
     "name": "stdout",
     "output_type": "stream",
     "text": [
      "lucky you!!\n"
     ]
    }
   ],
   "source": [
    "lucky_cards=['spade of ace','heart','queen of diamond','king of diamond','7']\n",
    "card=input(\"enter card: (EX.spade of 2)\")\n",
    "if card in lucky_cards:\n",
    "    print(\"lucky you!!\")\n",
    "elif\"heart\" in card:\n",
    "    print(\"lucky you!!!\")\n",
    "else:\n",
    "    print(\"better luck try next time\")"
   ]
  },
  {
   "cell_type": "code",
   "execution_count": null,
   "id": "44b3d490-c8d1-4c39-83aa-c479f2b7b91b",
   "metadata": {},
   "outputs": [],
   "source": []
  }
 ],
 "metadata": {
  "kernelspec": {
   "display_name": "Python 3 (ipykernel)",
   "language": "python",
   "name": "python3"
  },
  "language_info": {
   "codemirror_mode": {
    "name": "ipython",
    "version": 3
   },
   "file_extension": ".py",
   "mimetype": "text/x-python",
   "name": "python",
   "nbconvert_exporter": "python",
   "pygments_lexer": "ipython3",
   "version": "3.12.5"
  }
 },
 "nbformat": 4,
 "nbformat_minor": 5
}
