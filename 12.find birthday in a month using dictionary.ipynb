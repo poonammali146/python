{
 "cells": [
  {
   "cell_type": "code",
   "execution_count": 3,
   "id": "c5ef6c7b",
   "metadata": {},
   "outputs": [
    {
     "name": "stdout",
     "output_type": "stream",
     "text": [
      "1.poonam\n",
      "2.kandarp\n",
      "3.zeel\n",
      "4.aswin\n",
      "5.dhiraj\n"
     ]
    },
    {
     "name": "stdin",
     "output_type": "stream",
     "text": [
      "Choose No for find student Birth month :  3\n"
     ]
    },
    {
     "name": "stdout",
     "output_type": "stream",
     "text": [
      "November\n"
     ]
    }
   ],
   "source": [
    "#find birth month\n",
    "d={\"poonam\":\"14/06/03\",\"kandarp\":\"29/03/04\",\"zeel\":\"02/11/03\",\"aswin\":\"12/02/04\",\"dhiraj\":\"07/01/10\"}\n",
    "c=1\n",
    "for i in d.keys():\n",
    "    print(str(c)+\".\"+i)\n",
    "    c+=1\n",
    "\n",
    "n=int(input(\"Choose No for find student Birth month : \"))\n",
    "search=\"null\"\n",
    "if n==1:\n",
    "    search=\"poonam\"  \n",
    "elif n==2:\n",
    "    search=\"kandarp\"\n",
    "elif n==3:\n",
    "    search=\"zeel\"\n",
    "elif n==4:\n",
    "    search=\"aswin\"\n",
    "elif n==5:\n",
    "    search=\"dhiraj\"\n",
    "else:\n",
    "    print(\"Please enter correct student no !...\")\n",
    "\n",
    "if search !=\"null\":    \n",
    "   m={\"01\":\"January\",\"02\":\"February\",\"03\":\"March\",\"04\":\"April\",\"05\":\"May\",\"06\":\"June\",\"07\":\"July\",\"08\":\"August\",\"09\":\"September\",\"10\":\"Octomber\",\"11\":\"November\",\"12\":\"December\"}\n",
    "   searchMonth=\"\"\n",
    "   if \"poonam\" in search:\n",
    "     searchMonth=d[\"poonam\"][3:5]\n",
    "   elif \"kandarp\" in search:\n",
    "     searchMonth=d[\"kandarp\"][3:5]\n",
    "   elif \"zeel\" in search:\n",
    "     searchMonth=d[\"zeel\"][3:5]\n",
    "   elif \"aswin\" in search:\n",
    "     searchMonth=d[\"aswin\"][3:5]\n",
    "   else:\n",
    "     searchMonth=d[\"dhiraj\"][3:5]\n",
    "        \n",
    "   for i in m.keys():\n",
    "      if searchMonth in i:\n",
    "            print(m[i])\n",
    "\n",
    "    \n",
    "    \n",
    "    \n",
    "    \n"
   ]
  },
  {
   "cell_type": "code",
   "execution_count": null,
   "id": "28de39ae",
   "metadata": {},
   "outputs": [],
   "source": []
  }
 ],
 "metadata": {
  "kernelspec": {
   "display_name": "Python 3 (ipykernel)",
   "language": "python",
   "name": "python3"
  },
  "language_info": {
   "codemirror_mode": {
    "name": "ipython",
    "version": 3
   },
   "file_extension": ".py",
   "mimetype": "text/x-python",
   "name": "python",
   "nbconvert_exporter": "python",
   "pygments_lexer": "ipython3",
   "version": "3.12.5"
  }
 },
 "nbformat": 4,
 "nbformat_minor": 5
}
