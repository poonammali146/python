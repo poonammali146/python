{
 "cells": [
  {
   "cell_type": "code",
   "execution_count": 2,
   "id": "02e02808-673c-43eb-8b54-5527380a7a7d",
   "metadata": {},
   "outputs": [
    {
     "name": "stdin",
     "output_type": "stream",
     "text": [
      "Enter the number you want to print:  5\n"
     ]
    },
    {
     "name": "stdout",
     "output_type": "stream",
     "text": [
      "0 1 1 2 3 "
     ]
    }
   ],
   "source": [
    "n = int(input(\"Enter the number: \"))   \n",
    "a = 0    \n",
    "b = 1    \n",
    "for i in range(0,n):  \n",
    "    print(a, end = \" \")          \n",
    "    c = a+b                     \n",
    "    a = b               \n",
    "    b = c             "
   ]
  },
  {
   "cell_type": "code",
   "execution_count": null,
   "id": "aa71b413-7193-4420-8a92-2a09ce356fff",
   "metadata": {},
   "outputs": [],
   "source": []
  }
 ],
 "metadata": {
  "kernelspec": {
   "display_name": "Python 3 (ipykernel)",
   "language": "python",
   "name": "python3"
  },
  "language_info": {
   "codemirror_mode": {
    "name": "ipython",
    "version": 3
   },
   "file_extension": ".py",
   "mimetype": "text/x-python",
   "name": "python",
   "nbconvert_exporter": "python",
   "pygments_lexer": "ipython3",
   "version": "3.12.5"
  }
 },
 "nbformat": 4,
 "nbformat_minor": 5
}
