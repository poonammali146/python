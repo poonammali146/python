{
 "cells": [
  {
   "cell_type": "code",
   "execution_count": 47,
   "id": "7deeab39-30a9-456f-bb85-addb9a167505",
   "metadata": {},
   "outputs": [
    {
     "name": "stdin",
     "output_type": "stream",
     "text": [
      "enter Price:  10\n",
      "enter coin 1: 2\n",
      "enter coin 2: 2\n",
      "rnter coin 3: 5\n"
     ]
    },
    {
     "name": "stdout",
     "output_type": "stream",
     "text": [
      "0 0 2\n",
      "0 5 0\n",
      "1 4 0\n",
      "2 3 0\n",
      "3 2 0\n",
      "4 1 0\n",
      "5 0 0\n"
     ]
    }
   ],
   "source": [
    "price = int(input(\"enter Price: \"))\n",
    "p1=int(input(\"enter coin 1:\")) \n",
    "p2=int(input(\"enter coin 2:\")) \n",
    "p3=int(input(\"rnter coin 3:\"))\n",
    "c=0\n",
    "for d1 in range(0,(price//p1)+1):\n",
    "    for d2 in range(0,(price//p1)+1):\n",
    "        for d3 in range(0,(price//p1)+1):\n",
    "            if d1*p1+d2*p2+d3*p3 == price:\n",
    "                print(d1,d2,d3)\n",
    "                c=1\n",
    "if c==0:\n",
    "    print(\"no match found\")"
   ]
  },
  {
   "cell_type": "code",
   "execution_count": null,
   "id": "967c64b2-9665-4d49-9223-c20c70225b16",
   "metadata": {},
   "outputs": [],
   "source": []
  },
  {
   "cell_type": "code",
   "execution_count": null,
   "id": "068b8ee1-5ca0-4f18-a1a7-33aa66fbaf14",
   "metadata": {},
   "outputs": [],
   "source": []
  }
 ],
 "metadata": {
  "kernelspec": {
   "display_name": "Python 3 (ipykernel)",
   "language": "python",
   "name": "python3"
  },
  "language_info": {
   "codemirror_mode": {
    "name": "ipython",
    "version": 3
   },
   "file_extension": ".py",
   "mimetype": "text/x-python",
   "name": "python",
   "nbconvert_exporter": "python",
   "pygments_lexer": "ipython3",
   "version": "3.12.5"
  }
 },
 "nbformat": 4,
 "nbformat_minor": 5
}
